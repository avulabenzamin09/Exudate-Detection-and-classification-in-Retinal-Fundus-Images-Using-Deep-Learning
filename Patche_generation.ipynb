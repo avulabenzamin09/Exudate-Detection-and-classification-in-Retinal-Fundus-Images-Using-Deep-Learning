{
 "cells": [
  {
   "cell_type": "code",
   "execution_count": null,
   "metadata": {},
   "outputs": [],
   "source": [
    "import numpy as np\n",
    "import os\n",
    "import pandas as pd\n",
    "import csv\n",
    "from resizeimage import resizeimage\n",
    "from PIL import Image\n",
    "from tensorflow.python.ops.image_ops_impl import ResizeMethod  \n",
    "#from pandas_ml import ConfusionMatrix\n",
    "from random import shuffle\n",
    "import datetime"
   ]
  },
  {
   "cell_type": "code",
   "execution_count": null,
   "metadata": {},
   "outputs": [],
   "source": [
    "r=os.listdir(r'../Apparent Retinopathy')\n",
    "p=os.listdir(r'../EX')#ground truth images\n",
    "r.sort()\n",
    "p.sort()"
   ]
  },
  {
   "cell_type": "code",
   "execution_count": null,
   "metadata": {},
   "outputs": [],
   "source": [
    "for l in range(40):\n",
    "    a=Image.open(r'../Apparent Retinopathy/%s'%r[l])\n",
    "    label_list= Image.open(r'../EX/%s'%p[l])\n",
    "    g = np.array(resizeimage.resize_cover(a, [256,256]))\n",
    "    h=np.array(resizeimage.resize_cover(label_list, [256,256]))\n",
    "    npg=np.array(g,dtype='f')\n",
    "    nph=np.array(h,dtype='f')\n",
    "    k=l*2500\n",
    "    m=0\n",
    "    while m<2500:\n",
    "        i=int(np.random.randint(16,240,size=1))\n",
    "        j=int(np.random.randint(16,240,size=1))\n",
    "        if nph[i,j]==0:\n",
    "            #new=np.zeros([32,32,3],dtype='f')\n",
    "            new=npg[i-16:i+16,j-16:j+16,:]\n",
    "            result1 = Image.fromarray((new).astype(np.uint8))\n",
    "            result1.save(r'../hard_exudate_256x256_n/%d_0.jpg'%(k+1))\n",
    "            k+=1\n",
    "            m+=1"
   ]
  },
  {
   "cell_type": "code",
   "execution_count": null,
   "metadata": {},
   "outputs": [],
   "source": [
    "for l in range(40):\n",
    "    a=Image.open(r'../Apparent Retinopathy/%s'%r[l])\n",
    "    label_list= Image.open(r'../EX/%s'%p[l])\n",
    "    g = np.array(resizeimage.resize_cover(a, [256,256]))\n",
    "    h=np.array(resizeimage.resize_cover(label_list, [256,256]))\n",
    "    npg=np.array(g,dtype='f')\n",
    "    nph=np.array(h,dtype='f')\n",
    "    k=l*2500\n",
    "    m=0\n",
    "    while m<2500:\n",
    "        i=int(np.random.randint(16,240,size=1))\n",
    "        j=int(np.random.randint(16,240,size=1))\n",
    "        if nph[i,j]!=0:\n",
    "            #new=np.zeros([32,32,3],dtype='f')\n",
    "            new=npg[i-16:i+16,j-16:j+16,:]\n",
    "            result1 = Image.fromarray((new).astype(np.uint8))\n",
    "            result1.save(r'../hard_exudate_256x256_n/%d_1.jpg'%(k+1))\n",
    "            k+=1\n",
    "            m+=1"
   ]
  }
 ],
 "metadata": {
  "kernelspec": {
   "display_name": "Python 3",
   "language": "python",
   "name": "python3"
  },
  "language_info": {
   "codemirror_mode": {
    "name": "ipython",
    "version": 3
   },
   "file_extension": ".py",
   "mimetype": "text/x-python",
   "name": "python",
   "nbconvert_exporter": "python",
   "pygments_lexer": "ipython3",
   "version": "3.7.1"
  }
 },
 "nbformat": 4,
 "nbformat_minor": 2
}
